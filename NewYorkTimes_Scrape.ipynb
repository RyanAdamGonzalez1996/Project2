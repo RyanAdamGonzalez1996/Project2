{
 "cells": [
  {
   "cell_type": "markdown",
   "metadata": {},
   "source": [
    "# Scrape data from: https://en.m.wikipedia.org/wiki/Lists_of_The_New_York_Times_Fiction_Best_Sellers"
   ]
  },
  {
   "cell_type": "code",
   "execution_count": 1,
   "metadata": {},
   "outputs": [],
   "source": [
    "# Import Libraries\n",
    "from bs4 import BeautifulSoup as bs\n",
    "import requests\n",
    "import os\n",
    "from splinter import Browser\n",
    "from webdriver_manager.chrome import ChromeDriverManager\n",
    "import pandas as pd"
   ]
  },
  {
   "cell_type": "code",
   "execution_count": 2,
   "metadata": {},
   "outputs": [],
   "source": [
    "# Store the URL\n",
    "nytimes_url = \"https://en.m.wikipedia.org/wiki/Lists_of_The_New_York_Times_Fiction_Best_Sellers\""
   ]
  },
  {
   "cell_type": "code",
   "execution_count": 3,
   "metadata": {},
   "outputs": [
    {
     "name": "stderr",
     "output_type": "stream",
     "text": [
      "[WDM] - Current google-chrome version is 87.0.4280\n",
      "[WDM] - Get LATEST driver version for 87.0.4280\n",
      "[WDM] - Driver [C:\\Users\\ryana\\.wdm\\drivers\\chromedriver\\win32\\87.0.4280.88\\chromedriver.exe] found in cache\n"
     ]
    },
    {
     "name": "stdout",
     "output_type": "stream",
     "text": [
      " \n"
     ]
    }
   ],
   "source": [
    "# Setup the Splinter Instance\n",
    "executable_path = {'executable_path': ChromeDriverManager().install()}\n",
    "browser = Browser('chrome', **executable_path, headless=False)"
   ]
  },
  {
   "cell_type": "code",
   "execution_count": 4,
   "metadata": {},
   "outputs": [],
   "source": [
    "# Visit the specific URL\n",
    "browser.visit(nytimes_url)"
   ]
  },
  {
   "cell_type": "code",
   "execution_count": 5,
   "metadata": {},
   "outputs": [
    {
     "name": "stderr",
     "output_type": "stream",
     "text": [
      "C:\\Users\\ryana\\Anaconda3\\lib\\site-packages\\splinter\\driver\\webdriver\\__init__.py:482: FutureWarning: browser.find_link_by_partial_href is deprecated. Use browser.links.find_by_partial_href instead.\n",
      "  warnings.warn(\n"
     ]
    }
   ],
   "source": [
    "# Test Cell for one instance\n",
    "browser.click_link_by_partial_href(1934)\n"
   ]
  },
  {
   "cell_type": "code",
   "execution_count": 6,
   "metadata": {},
   "outputs": [
    {
     "data": {
      "text/plain": [
       "['Anthony Adverse',\n",
       " 'The Thin Man',\n",
       " 'Work of Art',\n",
       " 'The Oppermanns',\n",
       " 'Seven Gothic Tales',\n",
       " 'Tender is the Night',\n",
       " 'Lamb in His Bosom',\n",
       " 'Five Silver Daughters',\n",
       " 'I, Claudius',\n",
       " 'So Red the Rose',\n",
       " 'Lost Horizon',\n",
       " 'The Forty Days of Musa Dagh']"
      ]
     },
     "execution_count": 6,
     "metadata": {},
     "output_type": "execute_result"
    }
   ],
   "source": [
    "# Get Dataframe of table and convert it to list\n",
    "html = browser.html\n",
    "soup = bs(html, \"html.parser\")\n",
    "table = pd.read_html(html)\n",
    "df = table[0]\n",
    "df = df.drop(columns = [\"Date\", \"Author\"])\n",
    "df = df.drop_duplicates()\n",
    "bookList = df[\"Book\"].tolist()\n",
    "bookList"
   ]
  },
  {
   "cell_type": "code",
   "execution_count": 7,
   "metadata": {},
   "outputs": [
    {
     "name": "stdout",
     "output_type": "stream",
     "text": [
      "<a class=\"mw-mf-page-center__mask\" href=\"#\"></a>\n"
     ]
    },
    {
     "ename": "NameError",
     "evalue": "name 'test' is not defined",
     "output_type": "error",
     "traceback": [
      "\u001b[1;31m---------------------------------------------------------------------------\u001b[0m",
      "\u001b[1;31mNameError\u001b[0m                                 Traceback (most recent call last)",
      "\u001b[1;32m<ipython-input-7-0a0a9a0b54e8>\u001b[0m in \u001b[0;36m<module>\u001b[1;34m\u001b[0m\n\u001b[0;32m      3\u001b[0m \u001b[1;32mfor\u001b[0m \u001b[0mresult\u001b[0m \u001b[1;32min\u001b[0m \u001b[0msoup\u001b[0m\u001b[1;33m.\u001b[0m\u001b[0mfind_all\u001b[0m\u001b[1;33m(\u001b[0m\u001b[1;34m\"a\"\u001b[0m\u001b[1;33m,\u001b[0m \u001b[0mhref\u001b[0m \u001b[1;33m=\u001b[0m \u001b[1;32mTrue\u001b[0m\u001b[1;33m)\u001b[0m\u001b[1;33m:\u001b[0m\u001b[1;33m\u001b[0m\u001b[1;33m\u001b[0m\u001b[0m\n\u001b[0;32m      4\u001b[0m     \u001b[0mprint\u001b[0m\u001b[1;33m(\u001b[0m\u001b[0mresult\u001b[0m\u001b[1;33m)\u001b[0m\u001b[1;33m\u001b[0m\u001b[1;33m\u001b[0m\u001b[0m\n\u001b[1;32m----> 5\u001b[1;33m     \u001b[1;32mif\u001b[0m \u001b[0mtest\u001b[0m\u001b[1;33m[\u001b[0m\u001b[0mx\u001b[0m\u001b[1;33m]\u001b[0m \u001b[1;33m==\u001b[0m \u001b[0mresult\u001b[0m\u001b[1;33m.\u001b[0m\u001b[0mget\u001b[0m\u001b[1;33m(\u001b[0m\u001b[1;34m\"title\"\u001b[0m\u001b[1;33m)\u001b[0m\u001b[1;33m:\u001b[0m\u001b[1;33m\u001b[0m\u001b[1;33m\u001b[0m\u001b[0m\n\u001b[0m\u001b[0;32m      6\u001b[0m         \u001b[0mprint\u001b[0m\u001b[1;33m(\u001b[0m\u001b[0mtest\u001b[0m\u001b[1;33m[\u001b[0m\u001b[0mx\u001b[0m\u001b[1;33m]\u001b[0m\u001b[1;33m)\u001b[0m\u001b[1;33m\u001b[0m\u001b[1;33m\u001b[0m\u001b[0m\n\u001b[0;32m      7\u001b[0m         \u001b[0mx\u001b[0m \u001b[1;33m+=\u001b[0m \u001b[1;36m1\u001b[0m\u001b[1;33m\u001b[0m\u001b[1;33m\u001b[0m\u001b[0m\n",
      "\u001b[1;31mNameError\u001b[0m: name 'test' is not defined"
     ]
    }
   ],
   "source": [
    "# Use the list to loop through the book titles\n",
    "x = 0\n",
    "for result in soup.find_all(\"a\", href = True):\n",
    "    print(result)\n",
    "    if test[x] == result.get(\"title\"):\n",
    "        print(test[x])\n",
    "        x += 1\n",
    "        new_url = (\"https://en.m.wikipedia.org\" + result[\"href\"])\n",
    "        browser.visit(new_url)\n",
    "        browser.back()\n",
    "   # elif result != :\n",
    "    #    x += 1\n",
    "# Would it be a bad idea to just get everything and not worry about just getting the book titles?\n",
    "# And just getting rid of the tables that don't provide the columns needed?\n",
    "\n",
    "\n",
    "# I need to iterate through the results of the html page, and get the href link of the books to get a table from the next link.\n",
    "# Created a list of all of the books on the page by reading in the table from the year page as a dataframe and converting to list.\n",
    "# Will use this list to make sure only books are navigated through with splinter.\n",
    "# Then, match the book titles (title attribute) with the ones in the list \n",
    "# After match is verified, get the href link to the books page, and then use splinter to navigate to that site browser.visit(newurl)\n",
    "# Having issue getting past books with no href or class =\"new\""
   ]
  },
  {
   "cell_type": "code",
   "execution_count": 7,
   "metadata": {},
   "outputs": [
    {
     "data": {
      "text/plain": [
       "['January 1',\n",
       " 'Anthony Adverse',\n",
       " 'Hervey Allen\\n',\n",
       " 'January 8\\n',\n",
       " 'January 15',\n",
       " 'The Thin Man',\n",
       " 'Dashiell Hammett\\n',\n",
       " 'January 22\\n',\n",
       " 'January 29\\n',\n",
       " 'February 5',\n",
       " 'Work of Art',\n",
       " 'Sinclair Lewis\\n',\n",
       " 'February 12\\n',\n",
       " 'February 19\\n',\n",
       " 'February 26\\n',\n",
       " 'March 5\\n',\n",
       " 'March 12\\n',\n",
       " 'March 19\\n',\n",
       " 'March 26',\n",
       " 'Anthony Adverse',\n",
       " 'Hervey Allen\\n',\n",
       " 'April 2',\n",
       " 'The Oppermanns',\n",
       " 'Lion Feuchtwanger\\n',\n",
       " 'April 9\\n',\n",
       " 'April 16',\n",
       " 'Anthony Adverse',\n",
       " 'Hervey Allen\\n',\n",
       " 'April 23\\n',\n",
       " 'April 30',\n",
       " 'Seven Gothic Tales',\n",
       " 'Isak Dinesen\\n',\n",
       " 'May 7',\n",
       " 'Tender is the Night',\n",
       " 'F. Scott Fitzgerald\\n',\n",
       " 'May 14',\n",
       " 'Anthony Adverse',\n",
       " 'Hervey Allen\\n',\n",
       " 'May 21',\n",
       " 'Lamb in His Bosom',\n",
       " 'Caroline Miller\\n',\n",
       " 'May 28',\n",
       " 'Five Silver Daughters',\n",
       " 'Louis Golding\\n',\n",
       " 'June 5',\n",
       " 'Lamb in His Bosom',\n",
       " 'Caroline Miller\\n',\n",
       " 'June 11\\n',\n",
       " 'June 18\\n',\n",
       " 'June 25\\n',\n",
       " 'July 2\\n',\n",
       " 'July 9\\n',\n",
       " 'July 16\\n',\n",
       " 'July 23',\n",
       " 'I, Claudius',\n",
       " 'Robert Graves\\n',\n",
       " 'July 30',\n",
       " 'Anthony Adverse',\n",
       " 'Hervey Allen\\n',\n",
       " 'August 6',\n",
       " 'So Red the Rose',\n",
       " 'Stark Young\\n',\n",
       " 'August 13\\n',\n",
       " 'August 20\\n',\n",
       " 'August 27\\n',\n",
       " 'September 3\\n',\n",
       " 'September 10\\n',\n",
       " 'September 17\\n',\n",
       " 'September 24\\n',\n",
       " 'October 1\\n',\n",
       " 'October 8\\n',\n",
       " 'October 15\\n',\n",
       " 'October 22\\n',\n",
       " 'October 29\\n',\n",
       " 'November 5\\n',\n",
       " 'November 12\\n',\n",
       " 'November 19\\n',\n",
       " 'November 26\\n',\n",
       " 'December 3',\n",
       " 'Lost Horizon',\n",
       " 'Hervey Allen\\n',\n",
       " 'December 10',\n",
       " 'The Forty Days of Musa Dagh',\n",
       " 'Franz Werfel\\n',\n",
       " 'December 17\\n',\n",
       " 'December 23\\n',\n",
       " 'December 30\\n']"
      ]
     },
     "execution_count": 7,
     "metadata": {},
     "output_type": "execute_result"
    }
   ],
   "source": [
    "p_tags = soup.find_all('td')\n",
    "\n",
    "htmlList = []\n",
    "for each in p_tags: \n",
    "    htmlList.append(str(each.get_text()))\n",
    "\n",
    "htmlList"
   ]
  },
  {
   "cell_type": "code",
   "execution_count": 8,
   "metadata": {},
   "outputs": [
    {
     "ename": "IndexError",
     "evalue": "list index out of range",
     "output_type": "error",
     "traceback": [
      "\u001b[1;31m---------------------------------------------------------------------------\u001b[0m",
      "\u001b[1;31mIndexError\u001b[0m                                Traceback (most recent call last)",
      "\u001b[1;32m<ipython-input-8-254aab0efa85>\u001b[0m in \u001b[0;36m<module>\u001b[1;34m\u001b[0m\n\u001b[0;32m      5\u001b[0m \u001b[1;32mfor\u001b[0m \u001b[0mitem\u001b[0m \u001b[1;32min\u001b[0m \u001b[0mrange\u001b[0m\u001b[1;33m(\u001b[0m\u001b[0mlen\u001b[0m\u001b[1;33m(\u001b[0m\u001b[0mbookList\u001b[0m\u001b[1;33m)\u001b[0m\u001b[1;33m)\u001b[0m\u001b[1;33m:\u001b[0m\u001b[1;33m\u001b[0m\u001b[1;33m\u001b[0m\u001b[0m\n\u001b[0;32m      6\u001b[0m     \u001b[1;32mfor\u001b[0m \u001b[0mtext\u001b[0m \u001b[1;32min\u001b[0m \u001b[0mrange\u001b[0m\u001b[1;33m(\u001b[0m\u001b[0mlen\u001b[0m\u001b[1;33m(\u001b[0m\u001b[0mhtmlList\u001b[0m\u001b[1;33m)\u001b[0m\u001b[1;33m)\u001b[0m\u001b[1;33m:\u001b[0m\u001b[1;33m\u001b[0m\u001b[1;33m\u001b[0m\u001b[0m\n\u001b[1;32m----> 7\u001b[1;33m         \u001b[1;32mif\u001b[0m \u001b[0mbookList\u001b[0m\u001b[1;33m[\u001b[0m\u001b[0mitem\u001b[0m\u001b[1;33m]\u001b[0m \u001b[1;33m==\u001b[0m \u001b[0mhtmlList\u001b[0m\u001b[1;33m[\u001b[0m\u001b[0mtext\u001b[0m\u001b[1;33m]\u001b[0m\u001b[1;33m:\u001b[0m\u001b[1;33m\u001b[0m\u001b[1;33m\u001b[0m\u001b[0m\n\u001b[0m\u001b[0;32m      8\u001b[0m             \u001b[0mbookList\u001b[0m\u001b[1;33m.\u001b[0m\u001b[0mremove\u001b[0m\u001b[1;33m(\u001b[0m\u001b[0mbookList\u001b[0m\u001b[1;33m[\u001b[0m\u001b[0mitem\u001b[0m\u001b[1;33m]\u001b[0m\u001b[1;33m)\u001b[0m\u001b[1;33m\u001b[0m\u001b[1;33m\u001b[0m\u001b[0m\n\u001b[0;32m      9\u001b[0m \u001b[0mbookList\u001b[0m\u001b[1;33m\u001b[0m\u001b[1;33m\u001b[0m\u001b[0m\n",
      "\u001b[1;31mIndexError\u001b[0m: list index out of range"
     ]
    }
   ],
   "source": [
    "# This functio removes the books from the list of books, generated upon entering the year page,\n",
    "# that don't have any links for the year page\n",
    "#def updateBookList(bookList, htmlList):\n",
    "    \n",
    "for item in range(len(bookList)):\n",
    "    for text in range(len(htmlList)):\n",
    "        if bookList[item] == htmlList[text]:\n",
    "            bookList.remove(bookList[item])\n",
    "bookList"
   ]
  },
  {
   "cell_type": "code",
   "execution_count": null,
   "metadata": {},
   "outputs": [],
   "source": [
    "# Navigate throuught the website\n",
    "\n",
    "# Loop through the years in the best sellers list\n",
    "for year in range(1931,2021):\n",
    "    try:\n",
    "        browser.click_link_by_partial_href(year)\n",
    "        \n",
    "        # Get the Table and all of the information\n",
    "        # First, create the Beautiful Soup object for the current page\n",
    "        html = browser.html\n",
    "        soup = bs(html, \"html.parser\")\n",
    "        \n",
    "        # Go through to all of the links to get more information on each book\n",
    "        # for link in soup.find(\"table\", class_ = \"wikitable\")\n",
    "\n",
    "            \n",
    "            # Collect the information from the table for each book\n",
    "            \n",
    "            # If there is no link, or the page hasn't been created yet, skip it\n",
    "            \n",
    "        # Go back to the main list to continue navigation\n",
    "        browser.back()\n",
    "        \n",
    "\n",
    "    except:\n",
    "        print(\"test\")"
   ]
  },
  {
   "cell_type": "code",
   "execution_count": null,
   "metadata": {},
   "outputs": [],
   "source": [
    "# Close the browser\n",
    "browser.quit()"
   ]
  },
  {
   "cell_type": "code",
   "execution_count": 9,
   "metadata": {},
   "outputs": [
    {
     "data": {
      "text/plain": [
       "['Anthony Adverse',\n",
       " 'The Thin Man',\n",
       " 'Work of Art',\n",
       " 'The Oppermanns',\n",
       " 'Seven Gothic Tales',\n",
       " 'Tender is the Night',\n",
       " 'Lamb in His Bosom',\n",
       " 'Five Silver Daughters',\n",
       " 'I, Claudius',\n",
       " 'So Red the Rose',\n",
       " 'Lost Horizon',\n",
       " 'The Forty Days of Musa Dagh']"
      ]
     },
     "execution_count": 9,
     "metadata": {},
     "output_type": "execute_result"
    }
   ],
   "source": [
    "# Get Dataframe of table and convert it to list\n",
    "html = browser.html\n",
    "soup = bs(html, \"html.parser\")\n",
    "table = pd.read_html(html)\n",
    "df = table[0]\n",
    "df = df.drop(columns = [\"Date\", \"Author\"])\n",
    "df = df.drop_duplicates()\n",
    "test = df[\"Book\"].tolist()\n",
    "test"
   ]
  },
  {
   "cell_type": "code",
   "execution_count": 10,
   "metadata": {},
   "outputs": [
    {
     "data": {
      "text/plain": [
       "['January 1',\n",
       " 'Anthony Adverse',\n",
       " 'Hervey Allen\\n',\n",
       " 'January 8\\n',\n",
       " 'January 15',\n",
       " 'The Thin Man',\n",
       " 'Dashiell Hammett\\n',\n",
       " 'January 22\\n',\n",
       " 'January 29\\n',\n",
       " 'February 5',\n",
       " 'Work of Art',\n",
       " 'Sinclair Lewis\\n',\n",
       " 'February 12\\n',\n",
       " 'February 19\\n',\n",
       " 'February 26\\n',\n",
       " 'March 5\\n',\n",
       " 'March 12\\n',\n",
       " 'March 19\\n',\n",
       " 'March 26',\n",
       " 'Anthony Adverse',\n",
       " 'Hervey Allen\\n',\n",
       " 'April 2',\n",
       " 'The Oppermanns',\n",
       " 'Lion Feuchtwanger\\n',\n",
       " 'April 9\\n',\n",
       " 'April 16',\n",
       " 'Anthony Adverse',\n",
       " 'Hervey Allen\\n',\n",
       " 'April 23\\n',\n",
       " 'April 30',\n",
       " 'Seven Gothic Tales',\n",
       " 'Isak Dinesen\\n',\n",
       " 'May 7',\n",
       " 'Tender is the Night',\n",
       " 'F. Scott Fitzgerald\\n',\n",
       " 'May 14',\n",
       " 'Anthony Adverse',\n",
       " 'Hervey Allen\\n',\n",
       " 'May 21',\n",
       " 'Lamb in His Bosom',\n",
       " 'Caroline Miller\\n',\n",
       " 'May 28',\n",
       " 'Five Silver Daughters',\n",
       " 'Louis Golding\\n',\n",
       " 'June 5',\n",
       " 'Lamb in His Bosom',\n",
       " 'Caroline Miller\\n',\n",
       " 'June 11\\n',\n",
       " 'June 18\\n',\n",
       " 'June 25\\n',\n",
       " 'July 2\\n',\n",
       " 'July 9\\n',\n",
       " 'July 16\\n',\n",
       " 'July 23',\n",
       " 'I, Claudius',\n",
       " 'Robert Graves\\n',\n",
       " 'July 30',\n",
       " 'Anthony Adverse',\n",
       " 'Hervey Allen\\n',\n",
       " 'August 6',\n",
       " 'So Red the Rose',\n",
       " 'Stark Young\\n',\n",
       " 'August 13\\n',\n",
       " 'August 20\\n',\n",
       " 'August 27\\n',\n",
       " 'September 3\\n',\n",
       " 'September 10\\n',\n",
       " 'September 17\\n',\n",
       " 'September 24\\n',\n",
       " 'October 1\\n',\n",
       " 'October 8\\n',\n",
       " 'October 15\\n',\n",
       " 'October 22\\n',\n",
       " 'October 29\\n',\n",
       " 'November 5\\n',\n",
       " 'November 12\\n',\n",
       " 'November 19\\n',\n",
       " 'November 26\\n',\n",
       " 'December 3',\n",
       " 'Lost Horizon',\n",
       " 'Hervey Allen\\n',\n",
       " 'December 10',\n",
       " 'The Forty Days of Musa Dagh',\n",
       " 'Franz Werfel\\n',\n",
       " 'December 17\\n',\n",
       " 'December 23\\n',\n",
       " 'December 30\\n']"
      ]
     },
     "execution_count": 10,
     "metadata": {},
     "output_type": "execute_result"
    }
   ],
   "source": [
    "p_tags = soup.find_all('td')\n",
    "\n",
    "test2 = []\n",
    "for each in p_tags: \n",
    "    test2.append(str(each.get_text()))\n",
    "\n",
    "test2"
   ]
  },
  {
   "cell_type": "code",
   "execution_count": 11,
   "metadata": {},
   "outputs": [
    {
     "ename": "IndexError",
     "evalue": "list index out of range",
     "output_type": "error",
     "traceback": [
      "\u001b[1;31m---------------------------------------------------------------------------\u001b[0m",
      "\u001b[1;31mIndexError\u001b[0m                                Traceback (most recent call last)",
      "\u001b[1;32m<ipython-input-11-db3a86ea86bf>\u001b[0m in \u001b[0;36m<module>\u001b[1;34m\u001b[0m\n\u001b[0;32m      1\u001b[0m \u001b[1;32mfor\u001b[0m \u001b[0mchar\u001b[0m \u001b[1;32min\u001b[0m \u001b[0mrange\u001b[0m\u001b[1;33m(\u001b[0m\u001b[0mlen\u001b[0m\u001b[1;33m(\u001b[0m\u001b[0mtest\u001b[0m\u001b[1;33m)\u001b[0m\u001b[1;33m)\u001b[0m\u001b[1;33m:\u001b[0m\u001b[1;33m\u001b[0m\u001b[1;33m\u001b[0m\u001b[0m\n\u001b[0;32m      2\u001b[0m     \u001b[1;32mfor\u001b[0m \u001b[0mcheck\u001b[0m \u001b[1;32min\u001b[0m \u001b[0mrange\u001b[0m\u001b[1;33m(\u001b[0m\u001b[0mlen\u001b[0m\u001b[1;33m(\u001b[0m\u001b[0mtest2\u001b[0m\u001b[1;33m)\u001b[0m\u001b[1;33m)\u001b[0m\u001b[1;33m:\u001b[0m\u001b[1;33m\u001b[0m\u001b[1;33m\u001b[0m\u001b[0m\n\u001b[1;32m----> 3\u001b[1;33m         \u001b[1;32mif\u001b[0m \u001b[0mtest\u001b[0m\u001b[1;33m[\u001b[0m\u001b[0mchar\u001b[0m\u001b[1;33m]\u001b[0m \u001b[1;33m==\u001b[0m \u001b[0mtest2\u001b[0m\u001b[1;33m[\u001b[0m\u001b[0mcheck\u001b[0m\u001b[1;33m]\u001b[0m\u001b[1;33m:\u001b[0m\u001b[1;33m\u001b[0m\u001b[1;33m\u001b[0m\u001b[0m\n\u001b[0m\u001b[0;32m      4\u001b[0m \u001b[1;33m\u001b[0m\u001b[0m\n\u001b[0;32m      5\u001b[0m             \u001b[0mtest\u001b[0m\u001b[1;33m.\u001b[0m\u001b[0mremove\u001b[0m\u001b[1;33m(\u001b[0m\u001b[0mtest\u001b[0m\u001b[1;33m[\u001b[0m\u001b[0mchar\u001b[0m\u001b[1;33m]\u001b[0m\u001b[1;33m)\u001b[0m\u001b[1;33m\u001b[0m\u001b[1;33m\u001b[0m\u001b[0m\n",
      "\u001b[1;31mIndexError\u001b[0m: list index out of range"
     ]
    }
   ],
   "source": [
    "\n",
    "for char in range(len(test)):\n",
    "    for check in range(len(test2)):\n",
    "        if test[char] == test2[check]:\n",
    "        \n",
    "            test.remove(test[char])\n",
    "test"
   ]
  },
  {
   "cell_type": "code",
   "execution_count": null,
   "metadata": {},
   "outputs": [],
   "source": []
  }
 ],
 "metadata": {
  "kernelspec": {
   "display_name": "Python 3",
   "language": "python",
   "name": "python3"
  },
  "language_info": {
   "codemirror_mode": {
    "name": "ipython",
    "version": 3
   },
   "file_extension": ".py",
   "mimetype": "text/x-python",
   "name": "python",
   "nbconvert_exporter": "python",
   "pygments_lexer": "ipython3",
   "version": "3.8.3"
  }
 },
 "nbformat": 4,
 "nbformat_minor": 4
}
