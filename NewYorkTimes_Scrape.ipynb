{
 "cells": [
  {
   "cell_type": "markdown",
   "metadata": {},
   "source": [
    "# Scrape data from: https://en.m.wikipedia.org/wiki/Lists_of_The_New_York_Times_Fiction_Best_Sellers"
   ]
  },
  {
   "cell_type": "code",
   "execution_count": 1,
   "metadata": {},
   "outputs": [],
   "source": [
    "# Import Libraries\n",
    "from bs4 import BeautifulSoup as bs\n",
    "import requests\n",
    "import os\n",
    "from splinter import Browser\n",
    "from webdriver_manager.chrome import ChromeDriverManager\n",
    "import pandas as pd"
   ]
  },
  {
   "cell_type": "code",
   "execution_count": 2,
   "metadata": {},
   "outputs": [],
   "source": [
    "# Function to get the years best seller table into a list\n",
    "def yearTable_toList():\n",
    "    \n",
    "    # Initialize the Beautiful Soup instance and read the html with pandas\n",
    "    html = browser.html\n",
    "    soup = bs(html, \"html.parser\")\n",
    "    table = pd.read_html(html)\n",
    "    \n",
    "    # Get the First index, which is table on the year page.\n",
    "    df = table[0]\n",
    "\n",
    "    # Format the dataframe to only have unique book titles\n",
    "    df = df.drop(columns = [\"Date\", \"Author\"])\n",
    "    df = df.drop_duplicates()\n",
    "\n",
    "    # Convert the dataframe to a list\n",
    "    bookList = df[\"Book\"].tolist()\n",
    "    \n",
    "    # Return the bookList\n",
    "    return(bookList)"
   ]
  },
  {
   "cell_type": "code",
   "execution_count": 3,
   "metadata": {},
   "outputs": [],
   "source": [
    "# Store the URL\n",
    "nytimes_url = \"https://en.m.wikipedia.org/wiki/Lists_of_The_New_York_Times_Fiction_Best_Sellers\""
   ]
  },
  {
   "cell_type": "code",
   "execution_count": 4,
   "metadata": {},
   "outputs": [
    {
     "name": "stderr",
     "output_type": "stream",
     "text": [
      "[WDM] - Current google-chrome version is 87.0.4280\n",
      "[WDM] - Get LATEST driver version for 87.0.4280\n",
      "[WDM] - Driver [C:\\Users\\ryana\\.wdm\\drivers\\chromedriver\\win32\\87.0.4280.88\\chromedriver.exe] found in cache\n"
     ]
    },
    {
     "name": "stdout",
     "output_type": "stream",
     "text": [
      " \n"
     ]
    }
   ],
   "source": [
    "# Setup the Splinter Instance\n",
    "executable_path = {'executable_path': ChromeDriverManager().install()}\n",
    "browser = Browser('chrome', **executable_path, headless=False)"
   ]
  },
  {
   "cell_type": "code",
   "execution_count": 5,
   "metadata": {},
   "outputs": [
    {
     "name": "stderr",
     "output_type": "stream",
     "text": [
      "C:\\Users\\ryana\\Anaconda3\\lib\\site-packages\\splinter\\driver\\webdriver\\__init__.py:482: FutureWarning: browser.find_link_by_partial_href is deprecated. Use browser.links.find_by_partial_href instead.\n",
      "  warnings.warn(\n"
     ]
    },
    {
     "name": "stdout",
     "output_type": "stream",
     "text": [
      "1931\n",
      "1932\n",
      "1933\n",
      "1934\n",
      "1935\n",
      "1936\n",
      "1937\n",
      "1938\n",
      "1939\n",
      "1940\n",
      "1941\n",
      "1942\n",
      "1943\n",
      "1944\n",
      "1945\n",
      "Error: Couldn't Scrape Data\n",
      "1947\n",
      "1948\n",
      "1949\n",
      "1950\n",
      "1951\n",
      "1952\n",
      "1953\n",
      "1954\n",
      "1955\n",
      "1956\n",
      "1957\n",
      "1958\n",
      "1959\n",
      "1960\n",
      "1961\n",
      "1962\n",
      "1963\n",
      "1964\n",
      "1965\n",
      "1966\n",
      "1967\n",
      "1968\n",
      "1969\n",
      "1970\n",
      "1971\n",
      "1972\n",
      "1973\n",
      "1974\n",
      "1975\n",
      "1976\n",
      "1977\n",
      "1978\n",
      "1979\n",
      "1980\n",
      "1981\n",
      "1982\n",
      "1983\n",
      "1984\n",
      "1985\n",
      "1986\n",
      "1987\n",
      "1988\n",
      "1989\n",
      "1990\n",
      "1991\n",
      "1992\n",
      "1993\n",
      "1994\n",
      "1995\n",
      "1996\n",
      "1997\n",
      "1998\n",
      "1999\n",
      "2000\n",
      "2001\n",
      "2002\n",
      "2003\n",
      "2004\n",
      "2005\n",
      "2006\n",
      "2007\n",
      "2008\n",
      "2009\n",
      "2010\n",
      "2011\n",
      "2012\n",
      "2013\n",
      "2014\n",
      "2015\n",
      "2016\n",
      "2017\n",
      "2018\n",
      "2019\n",
      "2020\n"
     ]
    }
   ],
   "source": [
    "# Declare the dictionary variable\n",
    "bookDict = {}\n",
    "\n",
    "# Loop through the years in the best sellers list\n",
    "for year in range(1931,2021):\n",
    "    try:\n",
    "        # Go back to the main list to continue navigation\n",
    "        browser.visit(nytimes_url)\n",
    "        \n",
    "        # Navigate to each year's page\n",
    "        browser.click_link_by_partial_href(year) \n",
    "        \n",
    "        # Call the yearTable_toList and assign it to the bookList variable\n",
    "        bookList = yearTable_toList()\n",
    "        \n",
    "        # Iterate through the bookList and assign each book with it's best seller year\n",
    "        for book in bookList:\n",
    "            # Append the list to a dictionary with the year as the reference\n",
    "            bookDict[book] = year\n",
    "        \n",
    "        # Output the current year, to keep track of where data has been scraped\n",
    "        print(year)\n",
    "        \n",
    "        # Reset the bookList variable for next sequence\n",
    "        bookList = []\n",
    "\n",
    "    except:\n",
    "        print(\"Error: Couldn't Scrape Data\")"
   ]
  },
  {
   "cell_type": "code",
   "execution_count": 6,
   "metadata": {},
   "outputs": [],
   "source": [
    "# Close the browser\n",
    "browser.quit()"
   ]
  },
  {
   "cell_type": "code",
   "execution_count": 7,
   "metadata": {},
   "outputs": [
    {
     "name": "stdout",
     "output_type": "stream",
     "text": [
      "{'The Ten Commandments': 1931, 'No List Published': 1931, 'Maid in Waiting': 1932, 'The Harbourmaster': 1932, 'Mr. and Mrs. Pennington': 1932, 'The End of Desire': 1932, \"Mary's Neck\": 1932, 'Magnolia Street': 1932, 'Bright Skin': 1932, 'A Modern Hero': 1932, 'The Good Earth': 1932, 'District Nurse': 1932, 'The Fountain': 1932, 'Faraway': 1932, 'Lark Ascending': 1932, 'A New York Tempest': 1932, 'The Sheltered Life': 1932, 'Sons': 1932, 'Invitation to the Waltz': 1932, 'Flowering Wilderness': 1933, 'The Last Adam': 1933, 'Ann Vickers': 1933, 'The Werewolf of Paris': 1933, 'Rain in the Doorway': 1933, 'As the Earth Turns': 1933, 'The Store': 1933, 'Little Man, What Now?': 1933, 'Anthony Adverse': 1934, nan: 1933, 'The Thin Man': 1934, 'Work of Art': 1934, 'The Oppermanns': 1934, 'Seven Gothic Tales': 1934, 'Tender is the Night': 1934, 'Lamb in His Bosom': 1934, 'Five Silver Daughters': 1934, 'I, Claudius': 1934, 'So Red the Rose': 1934, 'Lost Horizon': 1934, 'The Forty Days of Musa Dagh': 1935, \"Heaven's My Destination\": 1935, 'Come and Get It': 1935, 'Of Time and the River': 1935, 'Green Light': 1935, 'Now in November': 1935, 'Young Renny': 1935, 'Paths of Glory': 1935, 'Lucy Gayheart': 1935, 'Vein of Iron': 1935, 'Europa': 1935, \"It Can't Happen Here\": 1936, 'If I Have Four Apples': 1936, 'The Last Puritan': 1936, 'Sparkenbroke': 1936, 'The Weather in the Streets': 1936, 'The Doctor': 1936, 'Sanfelice': 1936, 'Gone with the Wind': 1937, 'Drums Along the Mohawk': 1937, 'Theatre': 1937, 'The Years': 1937, 'The Outward Room': 1937, 'Northwest Passage': 1937, 'The Citadel': 1938, 'The Prodigal Parents': 1938, 'Action at Aquila': 1938, 'The Yearling': 1938, 'My Son, My Son!': 1938, 'Rebecca': 1939, 'All This and Heaven Too': 1939, 'Wickford Point': 1939, 'The Grapes of Wrath': 1939, 'Escape': 1939, 'Kitty Foyle': 1940, 'The Nazarene': 1940, 'Moment in Peking': 1939, 'How Green Was My Valley': 1940, 'Native Son': 1940, 'Stars on the Sea': 1940, 'Mrs. Miniver': 1940, 'The Beloved Returns': 1940, \"You Can't Go Home Again\": 1940, 'For Whom the Bell Tolls': 1940, 'Oliver Wiswell': 1941, 'Random Harvest': 1941, 'This Above All': 1941, 'The Keys of the Kingdom': 1942, 'Saratoga Trunk': 1941, 'Windswept': 1942, 'Dragon Seed': 1942, \"Frenchman's Creek\": 1942, 'The Moon Is Down': 1942, 'And Now Tomorrow': 1942, 'The Song of Bernadette': 1942, \"Drivin' Woman\": 1942, 'The Robe': 1943, 'Mrs. Parkington': 1943, 'So Little Time': 1943, 'A Tree Grows in Brooklyn': 1944, 'Strange Fruit': 1944, \"The Razor's Edge\": 1944, 'Green Dolphin Street': 1944, 'Forever Amber': 1944, 'The Green Years': 1945, 'Earth and High Heaven': 1945, 'Captain from Castile': 1945, 'A Lion is in the Streets': 1945, 'So Well Remembered': 1945, 'The Black Rose': 1945, \"B.F.'s Daughter\": 1947, 'Lydia Bailey': 1947, \"Gentlemen's Agreement\": 1947, 'Kingsblood Royal': 1947, 'The Moneyman': 1947, 'House Divided': 1948, 'East Side, West Side': 1948, 'Eagle in the Sky': 1948, 'The Ides of March': 1948, 'Raintree County': 1948, 'unknown; not clear from source': 1948, \"Pilgrim's Inn\": 1948, 'The Naked and the Dead': 1948, \"Shannon's Way\": 1948, 'The Young Lions': 1948, 'The Big Fisherman': 1949, 'Point of No Return': 1949, 'A Rage To Live': 1949, 'The Egyptian': 1950, 'The Parasites': 1950, 'The Wall': 1950, 'The Cardinal': 1950, 'Across the River and into the Trees': 1950, 'The Disenchanted': 1951, 'Joy Street': 1951, 'From Here to Eternity': 1951, 'The Caine Mutiny': 1952, 'My Cousin Rachel': 1952, 'The Silver Chalice': 1953, 'East of Eden': 1953, 'Désirée': 1953, 'Beyond This Place': 1953, 'Lord Vanity': 1954, 'Not as a Stranger': 1954, 'Mary Anne': 1954, 'Love is Eternal': 1954, \"The View from Pompey's Head\": 1955, 'Sincerely, Willis Wayde': 1955, 'Bonjour Tristesse': 1955, 'Something of Value': 1955, 'Auntie Mame': 1955, 'Marjorie Morningstar': 1955, 'Andersonville': 1956, 'The Last Hurrah': 1956, \"Don't Go Near the Water\": 1956, 'Peyton Place': 1957, 'The Scapegoat': 1957, 'By Love Possessed': 1958, 'Anatomy of a Murder': 1958, 'Lolita': 1958, 'Doctor Zhivago': 1959, 'Exodus': 1959, 'Advise and Consent': 1960, 'Hawaii': 1961, 'The Last of the Just': 1961, 'The Agony and the Ecstasy': 1961, 'Franny and Zooey': 1962, 'Ship of Fools': 1962, 'A Shade of Difference': 1962, 'Seven Days in May': 1963, 'Not published due to the Newspaper Strike': 1963, 'Raise High the Roof Beam, Carpenters': 1963, 'The Glass-Blowers': 1963, 'The Shoes of the Fisherman': 1963, 'The Group': 1964, 'The Spy Who Came in from the Cold': 1964, 'The Rector of Justin': 1964, 'Herzog': 1965, 'Up the Down Staircase': 1965, 'The Source': 1966, 'Not published due to newspaper strike': 1965, 'Valley of the Dolls': 1966, 'The Secret of Santa Vittoria': 1967, 'The Arrangement': 1967, 'The Eighth Day': 1967, 'The Chosen': 2017, 'Topaz': 1967, 'The Gabriel Hounds': 1967, 'The Confessions of Nat Turner': 1968, 'Vanished': 1968, 'Airport': 1968, 'Couples': 1968, 'The Salzburg Connection': 1969, \"Portnoy's Complaint\": 1969, 'The Love Machine': 1969, 'The Godfather': 1970, \"The French Lieutenant's Woman\": 1970, 'Love Story': 1971, 'QB VII': 1971, 'The Passions of the Mind': 1971, 'The Exorcist': 1971, 'The Day of the Jackal': 1971, 'Wheels': 1972, 'The Winds of War': 1972, 'The Word': 1972, 'Jonathan Livingston Seagull': 1973, 'The Odessa File': 1973, 'Once Is Not Enough': 1973, 'Breakfast of Champions': 1973, 'The Hollow Hills': 1973, 'The Honorary Consul': 1973, 'Burr': 1974, 'Watership Down': 1974, 'Tinker Tailor Soldier Spy': 1974, 'Centennial': 1975, 'Something Happened': 1975, 'The Moneychangers': 1975, 'Looking for Mr. Goodbar': 1975, 'Ragtime': 1975, 'Curtain': 1976, '1876': 1976, 'Trinity': 1977, 'Sleeping Murder': 1976, \"Oliver's Story\": 1977, 'Falconer': 1977, 'The Thorn Birds': 1978, 'The Silmarillion': 1978, 'Bloodline': 1978, 'Scruples': 1978, 'The Holcroft Covenant': 1978, 'Chesapeake': 1979, 'Not published due to Newspaper Strike': 1978, 'War and Remembrance': 1979, 'Overload': 1979, 'The Matarese Circle': 1979, 'Good as Gold': 1979, \"Sophie's Choice\": 1979, 'The Last Enchantment': 1979, 'Jailbird': 1980, 'The Dead Zone': 1979, 'The Establishment': 1979, 'Triple': 1979, \"Smiley's People\": 1980, 'Princess Daisy': 1980, 'The Bourne Identity': 1980, 'Rage of Angels': 1980, 'Firestarter': 1980, 'The Key to Rebecca': 1980, 'The Covenant': 1981, 'Gorky Park': 1981, 'Noble House': 1981, 'Cujo': 1981, 'The Hotel New Hampshire': 1982, 'An Indecent Obsession': 1982, 'North and South': 1982, 'The Parsifal Mosaic': 1982, 'The Man from St. Petersburg': 1982, 'The Prodigal Daughter': 1982, 'Different Seasons': 1982, 'Master of the Game': 1982, 'Space': 1983, \"Mistral's Daughter\": 1983, 'The Little Drummer Girl': 1983, 'Star Wars: Return of the Jedi:The Storybook Based on the Movie': 1983, 'The Name of the Rose': 1983, 'Poland': 1984, 'Pet Sematary': 1984, 'Who Killed the Robins Family?': 1984, 'The Aquitaine Progression': 1984, 'Full Circle': 1984, '\"...And Ladies of the Club\"': 1984, 'First Among Equals': 1984, 'The Fourth Protocol': 1984, 'The Talisman': 1985, 'The Sicilian': 1985, 'If Tomorrow Comes': 1985, 'Family Album': 1985, 'Thinner': 1985, 'Jubal Sackett': 1985, 'Hold the Dream': 1985, 'The Cider House Rules': 1985, 'Skeleton Crew': 1985, 'Lucky': 1985, 'Lake Wobegon Days': 1986, 'Texas': 1985, 'The Mammoth Hunters': 1986, 'Lie Down with Lions': 1986, 'The Bourne Supremacy': 1986, 'A Perfect Spy': 1986, \"I'll Take Manhattan\": 1986, 'Last of the Breed': 1986, 'Wanderlust': 1986, 'Red Storm Rising': 1987, 'It': 1987, 'Whirlwind': 1986, 'The Eyes of the Dragon': 1987, 'Windmills of the Gods': 1987, 'Fine Things': 1987, 'The Haunted Mesa': 1987, 'Misery': 1987, 'Presumed Innocent': 1987, 'Patriot Games': 1987, 'Kaleidoscope': 1987, 'The Tommyknockers': 1988, 'The Bonfire of the Vanities': 1988, 'The Icarus Agenda': 1988, 'Zoya': 1988, 'Alaska': 1988, 'The Cardinal of the Kremlin': 1988, 'The Queen of the Damned': 1988, 'The Sands of Time': 1989, 'Sidney Sheldon': 1988, 'Midnight': 1989, 'Star': 1989, 'The Satanic Verses': 1989, 'While My Pretty One Sleeps': 1989, 'The Russia House': 1989, 'Polar Star': 1989, 'Clear and Present Danger': 1989, 'The Dark Half': 1990, 'Daddy': 1990, 'The Bad Place': 1990, 'Devices and Desires': 1990, \"Oh, the Places You'll Go!\": 1992, 'The Bourne Ultimatum': 1990, 'September': 1990, 'The Stand': 1990, 'The Burden of Proof': 1990, 'Memories of Midnight': 1990, 'Four Past Midnight': 1990, 'The Plains of Passage': 1991, 'The Secret Pilgrim': 1991, 'Cold Fire': 1991, 'Heartbeat': 1991, 'The Seeress of Kell': 1991, 'Loves Music, Loves to Dance': 1991, 'Heir to the Empire': 1991, \"The Kitchen God's Wife\": 1991, 'The Sum of All Fears': 1991, 'Scarlett': 1992, 'Hideaway': 2020, 'Rising Sun': 1992, 'The Pelican Brief': 1992, 'Jewels': 1992, \"Gerald's Game\": 1992, 'Where Is Joe Merchant?': 1992, 'The Stars Shine Down': 1992, 'The Tale of the Body Thief': 1992, 'Mixed Blessings': 1992, 'Dolores Claiborne': 1993, 'Dragon Tears': 1993, 'The Bridges of Madison County': 1995, 'The Client': 1993, 'Without Remorse': 1993, 'Slow Waltz in Cedar Bend': 1994, 'Disclosure': 1994, 'Accident': 1994, 'The Celestine Prophecy': 1995, 'Remember Me': 1994, 'The Chamber': 1994, 'The Gift': 1994, 'Debt of Honor': 1994, 'Taltos': 1994, 'Insomnia': 1994, 'Politically Correct Bedtime Stories': 1995, 'The Rainmaker': 1995, 'Beach Music': 1995, 'Memnoch the Devil': 1995, \"From Potter's Field\": 1995, '\"L\" Is for Lawless': 1995, 'The Horse Whisperer': 1996, 'The Lost World': 1995, 'Five Days in Paris': 1995, 'The Christmas Box': 1996, 'Intensity': 1996, 'Primary Colors': 1996, 'Moonlight Becomes You': 1996, 'How Stella Got Her Groove Back': 1996, 'The Runaway Jury': 1996, 'Cause of Death': 1996, 'Servant of the Bones': 1996, 'Executive Orders': 1996, 'The Deep End of the Ocean': 1996, 'Desperation': 1996, 'Silent Honor': 1996, 'Airframe': 1997, \"Hornet's Nest\": 1997, 'Sole Survivor': 1997, 'The Partner': 1997, \"Pretend You Don't See Her\": 1997, 'Plum Island': 1997, 'Special Delivery': 1997, 'Unnatural Exposure': 1997, 'Cold Mountain': 1998, 'Flood Tide': 1997, 'The Ghost': 1997, 'Paradise': 1998, 'The Street Lawyer': 1998, 'The Long Road Home': 1998, 'You Belong to Me': 1998, '\"N\" Is for Noose': 1998, 'A Widow for One Year': 1998, 'I Know This Much Is True': 1998, 'The Klone and I': 1998, 'I Know This Much is True': 1998, 'Point of Origin': 1998, 'Rainbow Six': 1998, 'Bag of Bones': 1998, 'The Path of Daggers': 1998, 'A Man in Full': 1999, 'Southern Cross': 1999, 'The Testament': 1999, 'Bittersweet': 1999, 'The Girl Who Loved Tom Gordon': 1999, \"We'll Meet Again\": 1999, 'Star Wars Episode I: The Phantom Menace': 1999, 'Harry Potter and the Chamber of Secrets': 2000, 'Hannibal': 1999, \"Harry Potter and the Philosopher's Stone\": 1999, 'Black Notice': 1999, 'The Alibi': 1999, 'Harry Potter and the Prisoner of Azkaban': 1999, 'The Brethren': 2000, 'The Wedding': 2000, 'Before I Say Good-Bye': 2000, 'Easy Prey': 2000, 'The Indwelling': 2000, 'Hot Six': 2000, 'The House on Hope Street': 2000, 'Winter Solstice': 2000, 'The Bear and the Dragon': 2001, 'The Rescue': 2000, 'Drowning Ruth': 2000, 'The Last Precinct': 2000, \"Winter's Heart\": 2000, 'The Mark': 2000, 'From the Corner of His Eye': 2001, 'A Day Late and a Dollar Short': 2001, 'A Painted House': 2001, '1st to Die': 2001, 'Dreamcatcher': 2001, 'A Common Life': 2001, 'On the Street Where You Live': 2001, 'Chosen Prey': 2001, '\"P\" Is for Peril': 2001, 'Seven Up': 2001, 'Leap of Faith': 2001, 'The Fourth Hand': 2001, \"Suzanne's Diary for Nicholas\": 2001, 'Valhalla Rising': 2001, 'Black House': 2001, 'The Corrections': 2001, 'Isle of Dog': 2001, 'Midnight Bayou': 2001, 'The Kiss': 2001, 'Desecration': 2001, 'Skipping Christmas': 2002, 'One Door Away from Heaven': 2002, 'Journey Through Heartsongs': 2002, 'The Diary of Ellen Rimbauer': 2002, 'The Summons': 2002, '2nd Chance': 2002, \"Everything's Eventual\": 2002, 'Three Fates': 2002, 'The Nanny Diaries': 2002, \"Daddy's Little Girl\": 2002, 'The Shelters of Stone': 2002, 'In This Mountain': 2002, 'The Beach House': 2002, 'Hard Eight': 2002, 'The Remnant': 2002, 'The Lovely Bones': 2003, 'Red Rabbit': 2002, 'Nights in Rodanthe': 2002, 'From a Buick 8': 2002, '\"Q\" Is for Quarry': 2002, 'Answered Prayers': 2002, 'Chesapeake Blue': 2002, 'Four Blind Mice': 2002, 'Prey': 2003, 'Crossroads of Twilight': 2003, 'The King of Torts': 2003, 'The Jester': 2003, 'The Da Vinci Code': 2006, 'Birthright': 2003, 'Armageddon': 2003, 'Naked Prey': 2003, 'The Lake House': 2003, 'Johnny Angel': 2003, 'To the Nines': 2003, 'The Teeth of the Tiger': 2003, 'Bleachers': 2003, 'The Five People You Meet in Heaven': 2005, 'Blow Fly': 2003, 'The Last Juror': 2004, '3rd Degree': 2004, 'Glorious Appearing': 2004, 'Song of Susannah': 2004, 'Ten Big Ones': 2004, \"Sam's Letters to Jennifer\": 2004, '\"R\" Is for Ricochet': 2004, 'Trace': 2004, 'The Dark Tower': 2004, 'Northern Lights': 2004, 'Hour Game': 2004, 'Metro Girl': 2004, 'London Bridges': 2004, 'Night Fall': 2004, 'The Broker': 2005, 'Honeymoon': 2005, 'The Rising': 2005, 'No Place Like Home': 2005, 'True Believer': 2005, '4th of July': 2005, 'The Closers': 2005, 'The Mermaid Chair': 2005, 'The Historian': 2005, 'Eleven on Top': 2005, 'Lifeguard': 2005, 'Chill Factor': 2005, 'Point Blank': 2005, 'Polar Shift': 2005, 'Anansi Boys': 2005, 'A Breath of Snow and Ashes': 2005, 'The Lincoln Lawyer': 2005, 'Knife of Dreams': 2005, 'At First Sight': 2005, 'Predator': 2005, 'A Feast for Crows': 2005, 'Mary, Mary': 2006, '\"S\" Is for Silence': 2006, 'The Hostage': 2006, 'Cell': 2006, 'The 5th Horseman': 2006, 'The House': 2006, 'Gone': 2013, 'Two Little Girls in Blue': 2006, 'Beach Road': 2006, 'At Risk': 2006, 'The Husband': 2006, 'Twelve Sharp': 2006, 'Angels Fall': 2006, 'Phantom': 2006, 'Judge and Jury': 2006, 'Rise and Shine': 2006, 'The Book of Fate': 2006, 'The Thirteenth Tale': 2006, 'For One More Day': 2007, \"Lisey's Story\": 2006, 'Dear John': 2006, 'Cross': 2006, \"Plum Lovin'\": 2007, 'Step on a Crack': 2007, 'Innocent in Death': 2007, 'Shopaholic and Baby': 2007, 'Nineteen Minutes': 2007, 'I Heard That Song Before': 2007, 'The Children of Húrin': 2007, 'Simple Genius': 2007, 'The 6th Target': 2007, 'A Thousand Splendid Suns': 2008, 'Lean Mean Thirteen': 2007, 'The Quickie': 2007, \"You've Been Warned\": 2007, 'Playing for Pizza': 2007, 'World Without End': 2007, 'Book of the Dead': 2007, 'Protect and Defended': 2007, 'Stone Cold': 2007, 'Double Cross': 2008, '\"T\" Is for Trespass': 2007, 'Plum Lucky': 2008, 'Duma Key': 2008, 'The Appeal': 2008, 'Change of Heart': 2008, 'Compulsion': 2008, 'Unaccustomed Earth': 2008, 'Where Are You Now?': 2008, 'Hold Tight': 2008, 'The Whole Truth': 2008, \"Sundays at Tiffany's\": 2008, 'The Host': 2008, 'Odd Hours': 2008, 'Blood Noir': 2008, 'Nothing to lose': 2008, 'Sail': 2008, 'Fearless Fourteen': 2008, 'The Last Patriot': 2008, 'Tribute': 2008, 'Moscow Rules': 2008, 'Acheron': 2008, 'Smoke Screen': 2008, 'The Force Unleashed': 2008, 'Devil Bones': 2008, 'Dark Curse': 2008, 'Anathem': 2008, 'The Story of Edgar Sawtelle': 2008, 'The Lucky One': 2008, 'The Brass Verdict': 2008, 'Extreme Measures': 2008, 'The Gate House': 2008, 'Divine Justice': 2008, 'The Christmas Sweater': 2009, 'Cross Country': 2008, 'Scarpetta': 2009, 'Black Ops': 2009, 'Plum Spooky': 2009, 'The Associate': 2009, 'Promises in Death': 2009, 'Handle with Care': 2009, 'True Detectives': 2009, 'Long Lost': 2009, 'Turn Coat': 2009, 'Just Take My Heart': 2009, 'First Family': 2009, '8th Confession': 2009, 'Dead and Gone': 2009, 'Wicked Prey': 2009, 'Gone Tomorrow': 2009, 'The Scarecrow': 2009, 'Skin Trade': 2009, 'Relentless': 2009, 'Knockout': 2009, \"Finger Lickin' Fifteen\": 2009, 'Swimsuit': 2009, 'Black Hills': 2009, 'Best Friends Forever': 2009, 'The Defector': 2009, 'The Girl Who Played with Fire': 2009, 'Bad Moon Rising': 2009, 'South of Broad': 2009, \"Alex Cross's Trial\": 2009, 'Dark Slayer': 2009, 'The Last Song': 2009, 'The Lost Symbol': 2010, 'The Gathering Storm': 2009, 'Ford County': 2009, 'Under the Dome': 2009, 'I, Alex Cross': 2009, '\"U\" Is for Undertow': 2009, 'The Help': 2011, 'Worst Case': 2010, 'Fantasy in Death': 2010, 'House Rules': 2010, 'Caught': 2010, 'Silver Borne': 2010, 'Changes': 2010, 'The Shadow of Your Smile': 2010, 'Deliver us from Evil': 2010, 'The 9th Judgment': 2010, 'Dead in the Family': 2010, '61 Hours': 2010, \"The Girl Who Kicked the Hornets' Nest\": 2011, 'The Overton Window': 2010, 'Sizzling Sixteen': 2010, 'Private': 2010, 'The Search': 2010, 'The Rembrandt Affair': 2010, 'The Postcard Killers': 2010, 'Freedom': 2010, 'Safe Haven': 2010, 'Fall of Giants': 2010, 'The Reversal': 2010, 'American Assassin': 2010, 'Worth Dying For': 2010, 'The Confession': 2010, 'Towers of Midnight': 2010, \"Hell's Corner\": 2010, 'Cross Fire': 2010, 'Port Mortuary': 2010, 'Dead or Alive': 2011, 'What the Night Knows': 2011, 'The Inner Circle': 2011, 'Shadowfever': 2011, 'Tick Tock': 2011, 'Alone': 2011, 'Treachery in Death': 2011, \"The Wise Man's Fear\": 2011, 'Water for Elephants': 2011, 'Live Wire': 2011, 'The Land of Painted Caves': 2011, 'The Fifth Witness': 2011, 'Dead Reckoning': 2011, \"Smokin' Seventeen\": 2011, 'Now You See Her': 2011, 'A Dance with Dragons': 2011, 'The Affair': 2011, 'The Best of Me': 2011, 'The Litigators': 2011, 'Zero Day': 2011, '11/22/63': 2012, 'Kill Alex Cross': 2011, 'Explosive Eighteen': 2011, 'The Drop': 2011, 'Red Mist': 2011, '77 Shadow Street': 2012, 'Private: #1 Suspect': 2012, 'Believing the Lie': 2012, 'Taken': 2012, 'Home Front': 2012, 'Kill Shot': 2012, 'Private Games': 2012, 'Celebrity in Death': 2012, 'Fifty Shades of Grey': 2014, 'A Wanted Man': 2012, 'Winter of the World': 2012, 'The Casual Vacancy': 2012, 'Reflected in You': 2012, 'The Bone Bed': 2012, 'The Racketeer': 2013, 'The Perfect Hope': 2012, 'The Last Man': 2012, 'Notorious Nineteen': 2012, 'The Black Box': 2012, 'Threat Vector': 2012, 'Gone Girl': 2015, 'A Memory of Light': 2013, 'Private Berlin': 2013, 'Until the End of Time': 2013, 'A Week in Winter': 2013, 'Alex Cross, Run': 2013, 'Calculated in Death': 2013, 'Reckless': 2013, 'Six Years': 2013, 'Lover At Last': 2013, 'Walking Disaster': 2013, 'The Bet': 2013, 'Whiskey Beach': 2013, 'The Hit': 2013, '12th of Never': 2013, 'Dead Ever After': 2013, 'Inferno': 2013, 'Entwined With You': 2013, 'Second Honeymoon': 2013, 'Hidden Order': 2013, \"The Cuckoo's Calling\": 2013, 'Burn': 2013, 'How the Light Gets In': 2013, 'Never Go Back': 2013, 'W is for Wasted': 2013, 'The Longest Ride': 2013, 'Doctor Sleep': 2013, 'Storm Front': 2013, 'Just One Evil Act': 2013, 'Sycamore Row': 2014, 'Dark Witch': 2013, 'Takedown Twenty': 2013, 'Cross My Heart': 2013, 'The Gods of Guilt': 2013, 'The Invention of Wings': 2014, 'The Goldfinch': 2014, 'Private L.A.': 2014, 'Concealed in Death': 2014, 'The Chance': 2014, 'Words of Radiance': 2014, 'Night Broken': 2014, 'Missing You': 2014, 'Shadow Spell': 2014, 'The King': 2014, 'Carnal Curiosity': 2014, 'The Collector': 2014, 'The Target': 2014, 'Unlucky 13': 2014, 'The One and Only': 2014, 'Skin Game': 2014, 'Mr. Mercedes': 2014, \"Written in My Own Heart's Blood\": 2014, 'Top Secret Twenty-One': 2014, 'Invisible': 2014, 'Act of War': 2014, 'The Book of Life': 2014, 'Big Little Lies': 2014, 'Outlander': 2014, 'The Long Way Home': 2014, 'Personal': 2014, 'Festive in Death': 2014, 'Edge of Eternity': 2014, 'Gray Mountain': 2015, 'Blood Magick': 2014, 'The Burning Room': 2014, 'Revival': 2014, 'Captivated by You': 2014, 'Hope to Die': 2014, 'All the Light We Cannot See': 2015, 'The Girl on the Train': 2016, 'The Liar': 2015, 'Memory Man': 2015, 'Gathering Prey': 2015, '14th Deadly Sin': 2015, 'Radiant Angel': 2015, 'Finders Keepers': 2015, 'Grey': 2015, 'Go Set a Watchman': 2015, 'Alert': 2015, 'Friction': 2015, 'X': 2015, \"The Girl in the Spider's Web\": 2015, 'Make Me': 2015, 'The Martian': 2015, 'The Survivor': 2015, 'See Me': 2015, 'Rogue Lawyer': 2016, 'The Crossing': 2015, 'Tricky Twenty-Two': 2015, 'Cross Justice': 2015, 'The Nightingale': 2015, 'Scandalous Behavior': 2016, 'Blue': 2016, 'NYPD Red 4': 2016, 'Brotherhood In Death': 2016, 'Morning Star': 2016, 'Cometh the hour': 2016, 'Me Before You': 2016, 'The Gangster': 2016, 'Fire Touched': 2016, 'Private Paris': 2016, 'Fool me once': 2016, 'One with you': 2016, 'The Obsession': 2016, 'The Last Mile': 2016, 'Extreme Prey': 2016, '15th Affair': 2016, 'End of Watch': 2016, 'Bay of Sighs': 2016, 'The Games': 2016, 'The Black Widow': 2016, 'Truly Madly Guilty': 2016, 'Bullseye': 2016, 'Insidious': 2016, 'A Great Reckoning': 2016, 'Apprentice in Death': 2016, 'Escape Clause': 2016, 'The Whistler': 2017, 'The Wrong Side of Goodbye': 2017, 'Night School': 2016, 'Turbo Twenty-three': 2016, 'Cross the Line': 2016, 'Island of Glass': 2016, 'The Mistress': 2017, \"A Dog's Purpose\": 2017, 'Never Never': 2017, 'Right Behind You': 2017, 'Echoes in Death': 2017, 'Heartbreak Hotel': 2017, 'The Shack': 2017, 'Mississippi Blood': 2017, 'The Black Book': 2017, 'The Fix': 2017, 'Golden Prey': 2017, '16th Seduction': 2017, 'Into the Water': 2017, 'Come Sundown': 2017, 'Camino Island': 2017, 'House of Spies': 2017, 'The Late Show': 2017, 'The Medical Examiner': 2017, 'Any Dream Will Do': 2017, 'Seeing Red': 2017, '\"Y\" Is for Yesterday': 2017, 'Glass Houses': 2017, 'Secrets in Death': 2017, 'A Column of Fire': 2017, 'The Cuban Affair': 2017, 'Sleeping Beauties': 2017, 'Origin': 2018, 'The Rooster Bar': 2017, 'Two Kinds of Truth': 2017, 'The Midnight Line': 2017, 'Hardcore Twenty-Four': 2017, 'The People vs. Alex Cross': 2018, 'Darker: Fifty Shades Darker as Told by Christian': 2017, 'Year One': 2017, 'The Woman in the Window': 2018, 'City of Endless Night': 2018, 'Judgment Road': 2018, 'Dark in Death': 2018, 'The Great Alone': 2018, 'Burn Bright': 2018, 'The Rising Sea': 2018, 'Accidental Heroes': 2018, 'The Disappeared': 2018, 'Ready Player One': 2018, 'The Thief': 2018, 'The Fallen': 2018, 'Twisted Prey': 2018, 'The 17th Suspect': 2018, 'The Cast': 2018, 'The Outsider': 2018, 'Shelter in Place': 2018, 'The President Is Missing': 2018, 'The Other Woman': 2018, 'Tailspin': 2018, 'Crazy Rich Asians': 2018, 'Leverage In Death': 2018, 'Juror #3': 2018, 'Lethal White': 2018, 'Vince Flynn: Red War': 2018, 'A Spark Of Light': 2018, 'Holy Ghost': 2018, 'Every Breath': 2018, 'The Reckoning': 2019, 'Dark Sacred Night': 2018, 'Past Tense': 2018, 'Look Alive Twenty-Five': 2018, 'Fire and Blood': 2018, 'Kingdom of the Blind': 2018, 'Of Blood and Bone': 2018, 'Long Road to Mercy': 2019, 'Verses for the Dead': 2019, 'Turning Point': 2019, 'Where the Crawdads Sing': 2020, 'Connections in Death': 2019, 'Redemption': 2019, 'Neon Prey': 2019, '18th Abduction': 2019, \"Summer of '69\": 2019, 'Under Currents': 2019, 'The New Girl': 2019, 'One Good Deed': 2019, 'A Better Man': 2019, 'Vendetta in Death': 2019, 'The Institute': 2019, 'The Water Dancer': 2019, 'Bloody Genius': 2019, 'The 19th Christmas': 2019, 'The Guardians': 2019, 'The Night Fire': 2019, 'Blue Moon': 2019, 'Twisted Twenty-Six': 2019, 'A Minute to Midnight': 2019, 'The Rise of Magicks': 2019, 'Where The Crawdads Sing': 2019, 'American Dirt': 2020, 'Golden in Death': 2020, 'One Minute Out': 2020, 'Blindside': 2020, 'House of Earth and Blood': 2020, 'The Mirror and the Light': 2020, 'The Boy from the Woods': 2020, 'Little Fires Everywhere': 2020, 'Masked Prey': 2020, 'Walk The Wire': 2020, 'Camino Winds': 2020, 'The 20th Victim': 2020, 'The Vanishing Half': 2020, 'The Summer House': 2020, '28 Summers': 2020, 'The Order': 2020, 'Near Dark': 2020, 'Deadlock': 2020, 'Royal': 2020, 'Thick as Thieves': 2020, 'All the Devils Are Here': 2020, 'Shadows in Death': 2020, 'The Evening and the Morning': 2020, 'The Book of Two Ways': 2020, 'The Return': 2020, 'Troubles in Paradise': 2020, 'A Time for Mercy': 2020, 'The Sentinel': 2020, 'Fortune and Glory': 2020, 'The Law of Innocence': 2020, 'Rhythm of War': 2020, 'Ready Player Two': 2020}\n"
     ]
    }
   ],
   "source": [
    "print(bookDict)"
   ]
  },
  {
   "cell_type": "code",
   "execution_count": 8,
   "metadata": {},
   "outputs": [
    {
     "data": {
      "text/html": [
       "<div>\n",
       "<style scoped>\n",
       "    .dataframe tbody tr th:only-of-type {\n",
       "        vertical-align: middle;\n",
       "    }\n",
       "\n",
       "    .dataframe tbody tr th {\n",
       "        vertical-align: top;\n",
       "    }\n",
       "\n",
       "    .dataframe thead th {\n",
       "        text-align: right;\n",
       "    }\n",
       "</style>\n",
       "<table border=\"1\" class=\"dataframe\">\n",
       "  <thead>\n",
       "    <tr style=\"text-align: right;\">\n",
       "      <th></th>\n",
       "      <th>0</th>\n",
       "    </tr>\n",
       "  </thead>\n",
       "  <tbody>\n",
       "    <tr>\n",
       "      <th>The Ten Commandments</th>\n",
       "      <td>1931</td>\n",
       "    </tr>\n",
       "    <tr>\n",
       "      <th>No List Published</th>\n",
       "      <td>1931</td>\n",
       "    </tr>\n",
       "    <tr>\n",
       "      <th>Maid in Waiting</th>\n",
       "      <td>1932</td>\n",
       "    </tr>\n",
       "    <tr>\n",
       "      <th>The Harbourmaster</th>\n",
       "      <td>1932</td>\n",
       "    </tr>\n",
       "    <tr>\n",
       "      <th>Mr. and Mrs. Pennington</th>\n",
       "      <td>1932</td>\n",
       "    </tr>\n",
       "    <tr>\n",
       "      <th>...</th>\n",
       "      <td>...</td>\n",
       "    </tr>\n",
       "    <tr>\n",
       "      <th>The Sentinel</th>\n",
       "      <td>2020</td>\n",
       "    </tr>\n",
       "    <tr>\n",
       "      <th>Fortune and Glory</th>\n",
       "      <td>2020</td>\n",
       "    </tr>\n",
       "    <tr>\n",
       "      <th>The Law of Innocence</th>\n",
       "      <td>2020</td>\n",
       "    </tr>\n",
       "    <tr>\n",
       "      <th>Rhythm of War</th>\n",
       "      <td>2020</td>\n",
       "    </tr>\n",
       "    <tr>\n",
       "      <th>Ready Player Two</th>\n",
       "      <td>2020</td>\n",
       "    </tr>\n",
       "  </tbody>\n",
       "</table>\n",
       "<p>963 rows × 1 columns</p>\n",
       "</div>"
      ],
      "text/plain": [
       "                            0\n",
       "The Ten Commandments     1931\n",
       "No List Published        1931\n",
       "Maid in Waiting          1932\n",
       "The Harbourmaster        1932\n",
       "Mr. and Mrs. Pennington  1932\n",
       "...                       ...\n",
       "The Sentinel             2020\n",
       "Fortune and Glory        2020\n",
       "The Law of Innocence     2020\n",
       "Rhythm of War            2020\n",
       "Ready Player Two         2020\n",
       "\n",
       "[963 rows x 1 columns]"
      ]
     },
     "execution_count": 8,
     "metadata": {},
     "output_type": "execute_result"
    }
   ],
   "source": [
    "finalBook_df = pd.DataFrame.from_dict(bookDict, orient = \"index\")\n",
    "finalBook_df"
   ]
  },
  {
   "cell_type": "code",
   "execution_count": null,
   "metadata": {},
   "outputs": [],
   "source": []
  }
 ],
 "metadata": {
  "kernelspec": {
   "display_name": "Python 3",
   "language": "python",
   "name": "python3"
  },
  "language_info": {
   "codemirror_mode": {
    "name": "ipython",
    "version": 3
   },
   "file_extension": ".py",
   "mimetype": "text/x-python",
   "name": "python",
   "nbconvert_exporter": "python",
   "pygments_lexer": "ipython3",
   "version": "3.8.3"
  }
 },
 "nbformat": 4,
 "nbformat_minor": 4
}
